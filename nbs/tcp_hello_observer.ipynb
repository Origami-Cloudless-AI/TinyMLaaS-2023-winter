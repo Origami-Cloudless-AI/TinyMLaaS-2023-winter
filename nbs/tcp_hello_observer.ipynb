{
 "cells": [
  {
   "cell_type": "code",
   "execution_count": null,
   "id": "31cccde3",
   "metadata": {},
   "outputs": [],
   "source": [
    "#| default_exp tcp_hello_observer"
   ]
  },
  {
   "cell_type": "markdown",
   "id": "ee1fa723",
   "metadata": {},
   "source": [
    "# TcpHelloObserver\n",
    "\n",
    "> Class for reading hello_world values over tcp"
   ]
  },
  {
   "cell_type": "code",
   "execution_count": null,
   "id": "27d4c373",
   "metadata": {},
   "outputs": [],
   "source": [
    "#| export\n",
    "import asyncio # tcp server"
   ]
  },
  {
   "cell_type": "code",
   "execution_count": null,
   "id": "03babbcc",
   "metadata": {},
   "outputs": [],
   "source": [
    "#| export\n",
    "class TcpHelloObserver:\n",
    "\n",
    "    def __init__(self):\n",
    "        self.x = []\n",
    "        self.y = []\n",
    "        self.server = None\n",
    "        self.__connected = False\n",
    "    \n",
    "    def parse_num(num_str : str):\n",
    "        \"\"\"Parses a number from a string in the format used by hello_world. The base of the exponentation is always assumed to be 2 and not parsed.\n",
    "        The exponent must be an integer.\n",
    "        \"\"\"\n",
    "        base = num_str[:num_str.find('*')]\n",
    "        exponent = num_str[num_str.find('^')+1:]\n",
    "        return float(base) * (2 ** int(exponent))\n",
    "\n",
    "    def parse_data(message : str):\n",
    "        \"Returns float (x,y) pair from `message` which follows formatting used by hello_world\"\n",
    "        parts = message.split(' ')\n",
    "        return (TcpHelloObserver.parse_num(parts[1][:-1]), TcpHelloObserver.parse_num(parts[3]))\n",
    "\n",
    "    async def __handle_connection(self, reader, writer):\n",
    "        \"Handles an incoming tcp connection by reading lines, parsing them and storing the x and y values\"\n",
    "        self.__connected = True\n",
    "        while True:\n",
    "            data = await reader.readline()\n",
    "            if not data:\n",
    "                break\n",
    "\n",
    "            message = data.decode()\n",
    "            if len(message) > 2: # if not an empty line\n",
    "                point = TcpHelloObserver.parse_data(message)\n",
    "                self.x.append(point[0])\n",
    "                self.y.append(point[1])\n",
    "            \n",
    "            await asyncio.sleep(0) # pass control to main\n",
    "        self.__connected = False\n",
    "\n",
    "    async def start_server(self, hostname : str, portnum : int):\n",
    "        \"Sets up a server\"\n",
    "        self.server = await asyncio.start_server(\n",
    "                self.__handle_connection, hostname, portnum)\n",
    "\n",
    "    async def serve_connection(self):\n",
    "        \"Tries to start a connection with client if one doesn't exist\"\n",
    "        await self.server.start_serving()\n",
    "\n",
    "    def is_connected(self):\n",
    "        \"Returns true if a client is connected\"\n",
    "        return self.__connected\n"
   ]
  },
  {
   "cell_type": "code",
   "execution_count": null,
   "id": "e607e3a4",
   "metadata": {},
   "outputs": [],
   "source": [
    "#| hide\n",
    "from nbdev.showdoc import *\n",
    "from fastcore.test import *"
   ]
  },
  {
   "cell_type": "markdown",
   "id": "248410e5",
   "metadata": {},
   "source": [
    "# Attributes"
   ]
  },
  {
   "cell_type": "markdown",
   "id": "877441f8",
   "metadata": {},
   "source": [
    "|attribute|description|\n",
    "|----|-----------|\n",
    "|x| list of floating point x values\n",
    "|y| list of floating point y values"
   ]
  },
  {
   "cell_type": "markdown",
   "id": "be15a663",
   "metadata": {},
   "source": [
    "# Methods"
   ]
  },
  {
   "cell_type": "code",
   "execution_count": null,
   "id": "97f6436b",
   "metadata": {},
   "outputs": [
    {
     "data": {
      "text/markdown": [
       "---\n",
       "\n",
       "### TcpHelloObserver.parse_num\n",
       "\n",
       ">      TcpHelloObserver.parse_num (num_str:str)\n",
       "\n",
       "parses a number from a string in the format used by hello_world. The base of the exponentation is always assumed to be 2 and not parsed.\n",
       "The exponent must be an integer."
      ],
      "text/plain": [
       "---\n",
       "\n",
       "### TcpHelloObserver.parse_num\n",
       "\n",
       ">      TcpHelloObserver.parse_num (num_str:str)\n",
       "\n",
       "parses a number from a string in the format used by hello_world. The base of the exponentation is always assumed to be 2 and not parsed.\n",
       "The exponent must be an integer."
      ]
     },
     "execution_count": null,
     "metadata": {},
     "output_type": "execute_result"
    }
   ],
   "source": [
    "show_doc(TcpHelloObserver.parse_num)"
   ]
  },
  {
   "cell_type": "code",
   "execution_count": null,
   "id": "e2ac980b",
   "metadata": {},
   "outputs": [],
   "source": [
    "test_eq(TcpHelloObserver.parse_num(\"1.0*2^8\"),256)"
   ]
  },
  {
   "cell_type": "code",
   "execution_count": null,
   "id": "f6c87e85",
   "metadata": {},
   "outputs": [
    {
     "data": {
      "text/plain": [
       "256.0"
      ]
     },
     "execution_count": null,
     "metadata": {},
     "output_type": "execute_result"
    }
   ],
   "source": [
    "\"Note that the '3' is assumed to be a 2\"\n",
    "TcpHelloObserver.parse_num(\"1.0*3^8\")"
   ]
  },
  {
   "cell_type": "code",
   "execution_count": null,
   "id": "0c855f85",
   "metadata": {},
   "outputs": [
    {
     "data": {
      "text/markdown": [
       "---\n",
       "\n",
       "### TcpHelloObserver.parse_data\n",
       "\n",
       ">      TcpHelloObserver.parse_data (message:str)\n",
       "\n",
       "returns float (x,y) pair from `message` which follows formatting used by hello_world"
      ],
      "text/plain": [
       "---\n",
       "\n",
       "### TcpHelloObserver.parse_data\n",
       "\n",
       ">      TcpHelloObserver.parse_data (message:str)\n",
       "\n",
       "returns float (x,y) pair from `message` which follows formatting used by hello_world"
      ]
     },
     "execution_count": null,
     "metadata": {},
     "output_type": "execute_result"
    }
   ],
   "source": [
    "show_doc(TcpHelloObserver.parse_data)"
   ]
  },
  {
   "cell_type": "code",
   "execution_count": null,
   "id": "6c752207",
   "metadata": {},
   "outputs": [],
   "source": [
    "test_eq(TcpHelloObserver.parse_data(\"x_value: 1.5*2^10, y_value: 1*2^-1\"), (1.5*2**10, 1*2**(-1)))\n",
    "test_eq(TcpHelloObserver.parse_data(\"x_value: 1.2566366*2^0, y_value: 1.9316164*2^-1\"), (1.2566366*2**0, 1.9316164*2**(-1)))"
   ]
  },
  {
   "cell_type": "code",
   "execution_count": null,
   "id": "6c6a081f",
   "metadata": {},
   "outputs": [
    {
     "data": {
      "text/markdown": [
       "---\n",
       "\n",
       "### TcpHelloObserver.start_server\n",
       "\n",
       ">      TcpHelloObserver.start_server (hostname:str, portnum:int)"
      ],
      "text/plain": [
       "---\n",
       "\n",
       "### TcpHelloObserver.start_server\n",
       "\n",
       ">      TcpHelloObserver.start_server (hostname:str, portnum:int)"
      ]
     },
     "execution_count": null,
     "metadata": {},
     "output_type": "execute_result"
    }
   ],
   "source": [
    "show_doc(TcpHelloObserver.start_server)"
   ]
  },
  {
   "cell_type": "code",
   "execution_count": null,
   "id": "3904dd94",
   "metadata": {},
   "outputs": [
    {
     "data": {
      "text/markdown": [
       "---\n",
       "\n",
       "### TcpHelloObserver.serve_connection\n",
       "\n",
       ">      TcpHelloObserver.serve_connection ()"
      ],
      "text/plain": [
       "---\n",
       "\n",
       "### TcpHelloObserver.serve_connection\n",
       "\n",
       ">      TcpHelloObserver.serve_connection ()"
      ]
     },
     "execution_count": null,
     "metadata": {},
     "output_type": "execute_result"
    }
   ],
   "source": [
    "show_doc(TcpHelloObserver.serve_connection)"
   ]
  },
  {
   "cell_type": "code",
   "execution_count": null,
   "id": "235f4e8c",
   "metadata": {},
   "outputs": [
    {
     "data": {
      "text/markdown": [
       "---\n",
       "\n",
       "### TcpHelloObserver.is_connected\n",
       "\n",
       ">      TcpHelloObserver.is_connected ()\n",
       "\n",
       "Returns true if a client is connected"
      ],
      "text/plain": [
       "---\n",
       "\n",
       "### TcpHelloObserver.is_connected\n",
       "\n",
       ">      TcpHelloObserver.is_connected ()\n",
       "\n",
       "Returns true if a client is connected"
      ]
     },
     "execution_count": null,
     "metadata": {},
     "output_type": "execute_result"
    }
   ],
   "source": [
    "show_doc(TcpHelloObserver.is_connected)"
   ]
  },
  {
   "cell_type": "code",
   "execution_count": null,
   "id": "13ef70c8",
   "metadata": {},
   "outputs": [],
   "source": [
    "#| hide\n",
    "import nbdev; nbdev.nbdev_export()"
   ]
  },
  {
   "cell_type": "code",
   "execution_count": null,
   "id": "21ef8296",
   "metadata": {},
   "outputs": [],
   "source": []
  }
 ],
 "metadata": {
  "kernelspec": {
   "display_name": "python3",
   "language": "python",
   "name": "python3"
  }
 },
 "nbformat": 4,
 "nbformat_minor": 5
}
