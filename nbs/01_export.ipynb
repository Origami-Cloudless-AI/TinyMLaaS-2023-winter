{
 "cells": [
  {
   "cell_type": "markdown",
   "metadata": {},
   "source": [
    "# core\n",
    "\n",
    "> Fill in a module description here"
   ]
  },
  {
   "cell_type": "code",
   "execution_count": null,
   "metadata": {},
   "outputs": [],
   "source": [
    "#|default_exp export"
   ]
  },
  {
   "cell_type": "code",
   "execution_count": null,
   "metadata": {},
   "outputs": [],
   "source": [
    "\n",
    "#|export\n",
    "from __future__ import annotations"
   ]
  },
  {
   "cell_type": "code",
   "execution_count": null,
   "metadata": {},
   "outputs": [],
   "source": [
    "#|export\n",
    "from nbdev.process import *\n",
    "from nbdev.imports import *\n",
    "from nbdev.maker import *"
   ]
  },
  {
   "cell_type": "code",
   "execution_count": null,
   "metadata": {},
   "outputs": [],
   "source": [
    "_test_file = \"00_core.ipynb\""
   ]
  },
  {
   "cell_type": "code",
   "execution_count": null,
   "metadata": {},
   "outputs": [],
   "source": [
    "#|export\n",
    "from collections import defaultdict\n",
    "from fastcore.foundation import L, ifnone\n",
    "from execnb.nbio import *\n",
    "\n",
    "class ExportTestProc:\n",
    "    \"A test proc that watches for `#|default_exp` and `#|test`\"\n",
    "    def __init__(self): self.tests = defaultdict(L)\n",
    "    def _default_exp_(self, cell, exp_to): self.default_exp = f'test_{exp_to}'\n",
    "    def _test_(self, cell, exp_to=None, nm=None, tst_cls=None): self.tests[self.default_exp].append(cell)"
   ]
  },
  {
   "cell_type": "code",
   "execution_count": null,
   "metadata": {},
   "outputs": [],
   "source": [
    "#|export\n",
    "_re_test = re.compile(r'#\\|\\s*test\\s*$', re.MULTILINE)\n",
    "_re_import = re.compile(r'#\\|\\s*test\\s*import\\s*$', re.MULTILINE)\n",
    "_tab = \"    \""
   ]
  },
  {
   "cell_type": "code",
   "execution_count": null,
   "metadata": {},
   "outputs": [],
   "source": [
    "#|export\n",
    "def get_directive(cell, key, default=None): \n",
    "    \"Extract a top level directive from `cell`\"\n",
    "    return cell.directives_.get(key, default)\n",
    "\n",
    "def _is_test_cell(cell): return cell.cell_type == \"code\" and get_directive(cell,'test')"
   ]
  },
  {
   "cell_type": "code",
   "execution_count": null,
   "metadata": {},
   "outputs": [],
   "source": [
    "def _mark_test(s):\n",
    "    ft = exec_new(\"import fastcore.test as ft\")[\"ft\"].__all__\n",
    "    kinds = [(o,f'ft.{o}') for o in ft if o.startswith(\"test_\")]\n",
    "    for k,v in kinds: s = s.replace(k,v)\n",
    "    return s"
   ]
  },
  {
   "cell_type": "code",
   "execution_count": null,
   "metadata": {},
   "outputs": [],
   "source": [
    "#|export\n",
    "def convert_pytest(cell, unittest=False):\n",
    "    \"Wraps cell contents into a pytest function\"\n",
    "    directive = get_directive(cell, \"test\")\n",
    "    if _is_test_cell(cell):\n",
    "        if \"import\" not in directive and \"case\" not in directive:\n",
    "            content = '\\n'.join([f\"{_tab}{c}\" for c in cell.source.split(\"\\n\")])\n",
    "            content = _mark_test(content)\n",
    "            if unittest: cell.source = f'def test_{directive[0]}(self):\\n{content}'\n",
    "            else: cell.source = f'def test_{directive[0]}():\\n{content}'\n",
    "        else:\n",
    "            cell.source = cell.source.replace(\"from fastcore.test import *\", \"import fastcore.test as ft\")"
   ]
  },
  {
   "cell_type": "code",
   "execution_count": null,
   "metadata": {},
   "outputs": [],
   "source": [
    "#|export\n",
    "_re_defaultexp = re.compile(r'^\\s*#\\|\\s*default_exp\\s+(\\S+)', flags=re.MULTILINE)\n",
    "def _default_exp(nb):\n",
    "    \"get the default_exp from a notebook\"\n",
    "    code_src = nb.cells.filter(lambda x: x.cell_type == 'code').attrgot('source')\n",
    "    default_exp = first(code_src.filter().map(_re_defaultexp.search).filter())\n",
    "    return default_exp.group(1) if default_exp else None\n",
    "    "
   ]
  },
  {
   "cell_type": "code",
   "execution_count": null,
   "metadata": {},
   "outputs": [],
   "source": [
    "#|export\n",
    "def construct_imports(nb, unittest=False):\n",
    "    \"Generates the test imports for the notebook\"\n",
    "    libname = get_config().lib_name\n",
    "    exp = _default_exp(nb)\n",
    "    imports = ['#| test import\\n', f'from {libname}.{exp} import *\\n']\n",
    "    if unittest: imports += ['import unittest']\n",
    "    nb.cells.insert(1, mk_cell(imports))"
   ]
  },
  {
   "cell_type": "code",
   "execution_count": null,
   "metadata": {},
   "outputs": [],
   "source": [
    "#|export\n",
    "def create_test_modules(path, dest, debug=False, mod_maker=ModuleMaker, unittest=False):\n",
    "    \"Creates test files from path, optionally with unittest support\"\n",
    "    exp = ExportTestProc()\n",
    "    procs = [exp, functools.partial(convert_pytest, unittest=unittest)]\n",
    "\n",
    "    if unittest: procs.append(convert_unittest)\n",
    "\n",
    "    class InsertWarning(Processor):\n",
    "        content = functools.partial(construct_imports, unittest=unittest)\n",
    "        def begin(self): self.nb.cells.insert(1, mk_cell(self.content, 'markdown'))\n",
    "    \n",
    "    nb = NBProcessor(path, procs)\n",
    "    insert_warning = InsertWarning(nb)\n",
    "    nb.preprocs = insert_warning\n",
    "    nb.process()\n",
    "    for i,(mod,cells) in enumerate(exp.tests.items()):\n",
    "        mm = mod_maker(dest=dest, name=exp.default_exp, nb_path=path, is_new=i==0, parse=False)\n",
    "        mm.make(cells)"
   ]
  },
  {
   "cell_type": "code",
   "execution_count": null,
   "metadata": {},
   "outputs": [],
   "source": [
    "\n",
    "#|eval: false\n",
    "create_test_modules(_test_file, \"tests\")"
   ]
  },
  {
   "cell_type": "code",
   "execution_count": null,
   "metadata": {},
   "outputs": [],
   "source": [
    "#| hide\n",
    "import nbdev; nbdev.nbdev_export()"
   ]
  },
  {
   "cell_type": "code",
   "execution_count": null,
   "metadata": {},
   "outputs": [
    {
     "name": "stdout",
     "output_type": "stream",
     "text": [
      "\u001b[1m============================= test session starts ==============================\u001b[0m\r\n",
      "platform linux -- Python 3.10.4, pytest-7.2.1, pluggy-1.0.0\r\n",
      "rootdir: /home/borna/tflm_hello_world\r\n",
      "plugins: cov-4.0.0, nbval-0.10.0\r\n",
      "\u001b[1mcollecting ... \u001b[0m\u001b[1m\r",
      "collected 1 item                                                               \u001b[0m\r\n",
      "\r\n",
      "tests/test_core.py \u001b[32m.\u001b[0m\u001b[32m                                                     [100%]\u001b[0m\r\n",
      "\r\n",
      "\u001b[32m============================== \u001b[32m\u001b[1m1 passed\u001b[0m\u001b[32m in 0.00s\u001b[0m\u001b[32m ===============================\u001b[0m\r\n"
     ]
    }
   ],
   "source": [
    "!pytest tests/"
   ]
  },
  {
   "cell_type": "code",
   "execution_count": null,
   "metadata": {},
   "outputs": [],
   "source": []
  }
 ],
 "metadata": {
  "kernelspec": {
   "display_name": "Python 3 (ipykernel)",
   "language": "python",
   "name": "python3"
  }
 },
 "nbformat": 4,
 "nbformat_minor": 4
}
